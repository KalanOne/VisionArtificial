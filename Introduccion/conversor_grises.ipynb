{
 "cells": [
  {
   "cell_type": "code",
   "execution_count": null,
   "id": "4be7d82b-c967-4f3e-a79a-7a03ec7f7ff9",
   "metadata": {},
   "outputs": [],
   "source": [
    "%pip install pillow pyside6"
   ]
  },
  {
   "cell_type": "code",
   "execution_count": null,
   "id": "483d6e41-e010-4a8b-b455-98362b146af8",
   "metadata": {},
   "outputs": [],
   "source": [
    "from PySide6.QtWidgets import (\n",
    "    QApplication, QWidget, QPushButton, QLabel, QVBoxLayout, QFileDialog\n",
    ")\n",
    "from PySide6.QtGui import QPixmap\n",
    "from PIL import Image, ImageQt, ImageOps\n",
    "import sys\n"
   ]
  },
  {
   "cell_type": "code",
   "execution_count": null,
   "id": "dcdfea21-0fcf-4de5-ad1f-7b3b0a1c75b9",
   "metadata": {},
   "outputs": [],
   "source": [
    "class ConversorGrises(QWidget):\n",
    "    def __init__(self):\n",
    "        super().__init__()\n",
    "        self.setWindowTitle(\"Conversor a escala de grises\")\n",
    "        self.setGeometry(100, 100, 600, 400)\n",
    "\n",
    "        self.imagen_original = None\n",
    "        self.imagen_grises = None\n",
    "\n",
    "        # Widgets\n",
    "        self.label_status = QLabel(\"Esperando acción...\")\n",
    "        self.label_imagen = QLabel()\n",
    "        self.label_imagen.setFixedSize(400, 300)\n",
    "\n",
    "        self.btn_abrir = QPushButton(\"Abrir\")\n",
    "        self.btn_convertir = QPushButton(\"Convertir a gris\")\n",
    "        self.btn_guardar = QPushButton(\"Guardar\")\n",
    "        self.btn_guardar.setEnabled(False)\n",
    "\n",
    "        # Layout\n",
    "        layout = QVBoxLayout()\n",
    "        layout.addWidget(self.label_imagen)\n",
    "        layout.addWidget(self.label_status)\n",
    "        layout.addWidget(self.btn_abrir)\n",
    "        layout.addWidget(self.btn_convertir)\n",
    "        layout.addWidget(self.btn_guardar)\n",
    "        self.setLayout(layout)\n",
    "\n",
    "        # Conectar botones\n",
    "        self.btn_abrir.clicked.connect(self.abrir_imagen)\n",
    "        self.btn_convertir.clicked.connect(self.convertir_grises)\n",
    "        self.btn_guardar.clicked.connect(self.guardar_imagen)\n",
    "\n",
    "    def abrir_imagen(self):\n",
    "        ruta, _ = QFileDialog.getOpenFileName(\n",
    "            self, \"Seleccionar imagen\", \"\", \"Archivos de imagen (*.png *.jpg *.jpeg *.bmp *.gif)\"\n",
    "        )\n",
    "        if ruta:\n",
    "            self.imagen_original = Image.open(ruta)\n",
    "            self.mostrar_imagen(self.imagen_original)\n",
    "            self.label_status.setText(f\"Imagen cargada: {ruta}\")\n",
    "            self.btn_guardar.setEnabled(False)\n",
    "\n",
    "    def convertir_grises(self):\n",
    "        if self.imagen_original:\n",
    "            self.imagen_grises = ImageOps.grayscale(self.imagen_original)\n",
    "            self.mostrar_imagen(self.imagen_grises)\n",
    "            self.label_status.setText(\"Imagen convertida a escala de grises\")\n",
    "            self.btn_guardar.setEnabled(True)\n",
    "\n",
    "    def guardar_imagen(self):\n",
    "        if self.imagen_grises:\n",
    "            ruta_guardar, _ = QFileDialog.getSaveFileName(\n",
    "                self, \"Guardar imagen\", \"\", \"PNG (*.png);;JPEG (*.jpg);;BMP (*.bmp)\"\n",
    "            )\n",
    "            if ruta_guardar:\n",
    "                self.imagen_grises.save(ruta_guardar)\n",
    "                self.label_status.setText(f\"Imagen guardada: {ruta_guardar}\")\n",
    "\n",
    "    def mostrar_imagen(self, imagen):\n",
    "        qt_imagen = ImageQt.ImageQt(imagen)\n",
    "        pixmap = QPixmap.fromImage(qt_imagen)\n",
    "        self.label_imagen.setPixmap(pixmap.scaled(\n",
    "            self.label_imagen.width(), self.label_imagen.height()\n",
    "        ))\n"
   ]
  },
  {
   "cell_type": "code",
   "execution_count": null,
   "id": "9dcb5eb8-6688-4649-ab35-0f792b99f12c",
   "metadata": {},
   "outputs": [],
   "source": [
    "# Crear y ejecutar la ventana\n",
    "app = QApplication.instance()\n",
    "if app is None:\n",
    "    app = QApplication(sys.argv)\n",
    "\n",
    "ventana = ConversorGrises()\n",
    "ventana.show()\n",
    "app.exec()\n"
   ]
  },
  {
   "cell_type": "code",
   "execution_count": null,
   "id": "ae9aef83-63b1-4d07-981c-a0612f69fcb8",
   "metadata": {},
   "outputs": [],
   "source": []
  }
 ],
 "metadata": {
  "kernelspec": {
   "display_name": "Python 3",
   "language": "python",
   "name": "python3"
  },
  "language_info": {
   "codemirror_mode": {
    "name": "ipython",
    "version": 3
   },
   "file_extension": ".py",
   "mimetype": "text/x-python",
   "name": "python",
   "nbconvert_exporter": "python",
   "pygments_lexer": "ipython3",
   "version": "3.13.7"
  }
 },
 "nbformat": 4,
 "nbformat_minor": 5
}
