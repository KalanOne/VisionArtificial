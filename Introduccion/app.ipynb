{
 "cells": [
  {
   "cell_type": "markdown",
   "id": "ff284c23-331e-4888-8b55-6aadc889a183",
   "metadata": {},
   "source": [
    "| Elemento | Descripción |\n",
    "|-----------|-------------|\n",
    "| **Escudos** | <p align=\"center\"><img src=\"./Imagenes/TECNM.png\" width=\"150\"/> <img src=\"./Imagenes/MSC.png\" width=\"150\"/></p> |\n",
    "| **Maestría** | Maestría en Sistemas Computacionales |\n",
    "| **Asignatura** | Visión Artificial |\n",
    "| **Proyecto** | Conversor a Escala de Grises |\n",
    "| **Autor** | Alan García Díaz |\n",
    "| **Fecha de entrega** | 17/09/2025 |\n"
   ]
  },
  {
   "cell_type": "markdown",
   "id": "caa6e42c-3999-40e4-aee0-bd9ea5b62f76",
   "metadata": {},
   "source": [
    "## Introducción\n",
    "\n",
    "El procesamiento digital de imágenes permite realizar transformaciones y análisis sobre representaciones visuales utilizando herramientas computacionales.  \n",
    "Una de las operaciones más comunes y fundamentales es la **conversión de una imagen a escala de grises**, que reduce la información de color y resalta los aspectos estructurales y de luminosidad.\n",
    "\n",
    "En este proyecto se desarrolló una aplicación con **interfaz gráfica (GUI)** implementada en **Python** usando la librería **PySide6 (Qt for Python)**.  \n",
    "El programa permite abrir imágenes en color, convertirlas a escala de grises y guardarlas, cumpliendo con los requisitos de una herramienta básica de manipulación visual interactiva."
   ]
  },
  {
   "cell_type": "markdown",
   "id": "d43ed319-9bf6-45de-b05f-3a6fd6ba80d7",
   "metadata": {},
   "source": [
    "## Enunciado del problema\n",
    "\n",
    "> Desarrollar un programa en Python que permita convertir a escala de grises una imagen originalmente a color.  \n",
    "> El programa deberá permitir:\n",
    ">\n",
    "> 1. Seleccionar la imagen a convertir mediante un cuadro de diálogo activado por un botón “Abrir”.  \n",
    "> 2. Realizar la conversión a escala de grises.  \n",
    "> 3. Guardar la imagen convertida mediante un botón “Guardar”, que solo se active después de realizar la conversión.  \n",
    "> 4. Se puede emplear cualquier librería para la interfaz gráfica. En el reporte debe indicarse cuál se usó y cómo se instala."
   ]
  },
  {
   "cell_type": "markdown",
   "id": "da572775-b25e-48d5-9451-2c82a2a0e7ca",
   "metadata": {},
   "source": [
    "## Desarrollo del tema\n",
    "\n",
    "Para la implementación se utilizó **PySide6**, una biblioteca de Python que permite crear interfaces gráficas modernas basadas en **Qt**, junto con **Pillow (PIL)** para el manejo y procesamiento de imágenes.\n",
    "\n",
    "### Instalación de dependencias\n",
    "\n",
    "Antes de ejecutar el código, se deben instalar las librerías necesarias en el entorno virtual:\n",
    "\n",
    "```bash\n",
    "pip install PySide6 Pillow\n",
    "````"
   ]
  },
  {
   "cell_type": "code",
   "execution_count": 9,
   "id": "483d6e41-e010-4a8b-b455-98362b146af8",
   "metadata": {},
   "outputs": [],
   "source": [
    "from PySide6.QtWidgets import (\n",
    "    QApplication, QWidget, QPushButton, QLabel, QVBoxLayout, QFileDialog\n",
    ")\n",
    "from PySide6.QtGui import QPixmap\n",
    "from PIL import Image, ImageQt, ImageOps\n",
    "import sys\n"
   ]
  },
  {
   "cell_type": "code",
   "execution_count": 10,
   "id": "dcdfea21-0fcf-4de5-ad1f-7b3b0a1c75b9",
   "metadata": {},
   "outputs": [],
   "source": [
    "class ConversorGrises(QWidget):\n",
    "    def __init__(self):\n",
    "        super().__init__()\n",
    "        self.setWindowTitle(\"Conversor a escala de grises\")\n",
    "        self.setGeometry(100, 100, 600, 400)\n",
    "\n",
    "        self.imagen_original = None\n",
    "        self.imagen_grises = None\n",
    "\n",
    "        # Widgets\n",
    "        self.label_status = QLabel(\"Esperando acción...\")\n",
    "        self.label_imagen = QLabel()\n",
    "        self.label_imagen.setFixedSize(400, 300)\n",
    "\n",
    "        self.btn_abrir = QPushButton(\"Abrir\")\n",
    "        self.btn_convertir = QPushButton(\"Convertir a gris\")\n",
    "        self.btn_guardar = QPushButton(\"Guardar\")\n",
    "        self.btn_guardar.setEnabled(False)\n",
    "\n",
    "        # Layout\n",
    "        layout = QVBoxLayout()\n",
    "        layout.addWidget(self.label_imagen)\n",
    "        layout.addWidget(self.label_status)\n",
    "        layout.addWidget(self.btn_abrir)\n",
    "        layout.addWidget(self.btn_convertir)\n",
    "        layout.addWidget(self.btn_guardar)\n",
    "        self.setLayout(layout)\n",
    "\n",
    "        # Conectar botones\n",
    "        self.btn_abrir.clicked.connect(self.abrir_imagen)\n",
    "        self.btn_convertir.clicked.connect(self.convertir_grises)\n",
    "        self.btn_guardar.clicked.connect(self.guardar_imagen)\n",
    "\n",
    "    def abrir_imagen(self):\n",
    "        ruta, _ = QFileDialog.getOpenFileName(\n",
    "            self, \"Seleccionar imagen\", \"\", \"Archivos de imagen (*.png *.jpg *.jpeg *.bmp *.gif)\"\n",
    "        )\n",
    "        if ruta:\n",
    "            self.imagen_original = Image.open(ruta)\n",
    "            self.mostrar_imagen(self.imagen_original)\n",
    "            self.label_status.setText(f\"Imagen cargada: {ruta}\")\n",
    "            self.btn_guardar.setEnabled(False)\n",
    "\n",
    "    def convertir_grises(self):\n",
    "        if self.imagen_original:\n",
    "            self.imagen_grises = ImageOps.grayscale(self.imagen_original)\n",
    "            self.mostrar_imagen(self.imagen_grises)\n",
    "            self.label_status.setText(\"Imagen convertida a escala de grises\")\n",
    "            self.btn_guardar.setEnabled(True)\n",
    "\n",
    "    def guardar_imagen(self):\n",
    "        if self.imagen_grises:\n",
    "            ruta_guardar, _ = QFileDialog.getSaveFileName(\n",
    "                self, \"Guardar imagen\", \"\", \"PNG (*.png);;JPEG (*.jpg);;BMP (*.bmp)\"\n",
    "            )\n",
    "            if ruta_guardar:\n",
    "                self.imagen_grises.save(ruta_guardar)\n",
    "                self.label_status.setText(f\"Imagen guardada: {ruta_guardar}\")\n",
    "\n",
    "    def mostrar_imagen(self, imagen):\n",
    "        qt_imagen = ImageQt.ImageQt(imagen)\n",
    "        pixmap = QPixmap.fromImage(qt_imagen)\n",
    "        self.label_imagen.setPixmap(pixmap.scaled(\n",
    "            self.label_imagen.width(), self.label_imagen.height()\n",
    "        ))\n"
   ]
  },
  {
   "cell_type": "code",
   "execution_count": 13,
   "id": "9dcb5eb8-6688-4649-ab35-0f792b99f12c",
   "metadata": {},
   "outputs": [
    {
     "data": {
      "text/plain": [
       "0"
      ]
     },
     "execution_count": 13,
     "metadata": {},
     "output_type": "execute_result"
    }
   ],
   "source": [
    "# Crear y ejecutar la ventana\n",
    "app = QApplication.instance()\n",
    "if app is None:\n",
    "    app = QApplication(sys.argv)\n",
    "\n",
    "ventana = ConversorGrises()\n",
    "ventana.show()\n",
    "app.exec()\n"
   ]
  },
  {
   "cell_type": "markdown",
   "id": "6f5c4d74-2f6e-4cd6-9586-c5193aaa33e7",
   "metadata": {},
   "source": [
    "## Ejecuciones con ejemplos\n",
    "\n",
    "---\n",
    "\n",
    "### Ejemplo 1 – Imagen de paisaje\n",
    "\n",
    "<table style=\"width:100%; text-align:center;\">\n",
    "  <tr>\n",
    "    <th style=\"text-align:center;\">Entrada</th>\n",
    "    <th style=\"text-align:center;\">Resultado</th>\n",
    "  </tr>\n",
    "  <tr>\n",
    "    <td>\n",
    "      <img src=\"./Imagenes/Paisaje_Ejecucion_Color.png\" alt=\"Paisaje a color\" width=\"400\" style=\"border-radius:10px; margin:10px\"/>\n",
    "      <p style=\"font-size:14px;\">Fotografía a color de un paisaje natural.</p>\n",
    "    </td>\n",
    "    <td>\n",
    "      <img src=\"./Imagenes/Paisaje_Ejecucion_Gris.png\" alt=\"Paisaje en escala de grises\" width=\"400\" style=\"border-radius:10px; margin:10px\"/>\n",
    "      <p style=\"font-size:14px;\">Conversión a escala de grises con buena preservación de detalles y contraste.</p>\n",
    "    </td>\n",
    "  </tr>\n",
    "</table>\n",
    "\n",
    "---\n",
    "\n",
    "### Ejemplo 2 – Imagen de retrato humano\n",
    "\n",
    "<table style=\"width:100%; text-align:center;\">\n",
    "  <tr>\n",
    "    <th style=\"text-align:center;\">Entrada</th>\n",
    "    <th style=\"text-align:center;\">Resultado</th>\n",
    "  </tr>\n",
    "  <tr>\n",
    "    <td>\n",
    "      <img src=\"./Imagenes/Retrato_Ejecucion_Color.png\" alt=\"Retrato a color\" width=\"400\" style=\"border-radius:10px; margin:10px\"/>\n",
    "      <p style=\"font-size:14px;\">Retrato con distintos tonos de piel y fondo.</p>\n",
    "    </td>\n",
    "    <td>\n",
    "      <img src=\"./Imagenes/Retrato_Ejecucion_Gris.png\" alt=\"Retrato en escala de grises\" width=\"400\" style=\"border-radius:10px; margin:10px\"/>\n",
    "      <p style=\"font-size:14px;\">Conversión uniforme sin pérdida significativa de información visual.</p>\n",
    "    </td>\n",
    "  </tr>\n",
    "</table>\n"
   ]
  },
  {
   "cell_type": "markdown",
   "id": "e5c6cc56-65b3-474b-82c8-88d8cb346ecb",
   "metadata": {},
   "source": [
    "## 🧭 Conclusiones\n",
    "\n",
    "El desarrollo de esta práctica permitió aplicar conocimientos de **procesamiento digital de imágenes**, **interfaces gráficas de usuario (GUI)** y **estructuración de programas en Python**.\n",
    "Durante la implementación se reforzaron conceptos como:\n",
    "\n",
    "* La manipulación de imágenes mediante **Pillow**, comprendiendo los canales RGB y su reducción a luminancia.\n",
    "* El uso de **PySide6** como herramienta profesional para crear interfaces interactivas.\n",
    "* El control de eventos y estados (habilitar/deshabilitar botones) según el flujo lógico del programa.\n",
    "* La importancia de un diseño modular y la validación de entradas de usuario.\n",
    "\n",
    "En conclusión, la práctica contribuyó a consolidar habilidades de integración entre procesamiento visual y diseño de aplicaciones, permitiendo crear una herramienta útil y sencilla de usar."
   ]
  },
  {
   "cell_type": "markdown",
   "id": "7e1838af-f678-4dea-9df2-ebfd42116bcf",
   "metadata": {},
   "source": [
    "## 📚 Referencias\n",
    "\n",
    "* PySide6 Documentation – *[https://doc.qt.io/qtforpython/](https://doc.qt.io/qtforpython/)*\n",
    "* Pillow (PIL) – *[https://pillow.readthedocs.io/](https://pillow.readthedocs.io/)*\n",
    "* Qt for Python Examples – *[https://wiki.qt.io/Qt_for_Python](https://wiki.qt.io/Qt_for_Python)*"
   ]
  },
  {
   "cell_type": "code",
   "execution_count": null,
   "id": "9dc3fa7b-6d47-4d4e-a18b-a655e6a9e03b",
   "metadata": {},
   "outputs": [],
   "source": []
  }
 ],
 "metadata": {
  "kernelspec": {
   "display_name": "Python (Introduccion .venv)",
   "language": "python",
   "name": "venv-introduccion"
  },
  "language_info": {
   "codemirror_mode": {
    "name": "ipython",
    "version": 3
   },
   "file_extension": ".py",
   "mimetype": "text/x-python",
   "name": "python",
   "nbconvert_exporter": "python",
   "pygments_lexer": "ipython3",
   "version": "3.13.7"
  }
 },
 "nbformat": 4,
 "nbformat_minor": 5
}
